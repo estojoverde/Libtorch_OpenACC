{
 "cells": [
  {
   "cell_type": "code",
   "execution_count": 1,
   "id": "c53f418d",
   "metadata": {
    "scrolled": true
   },
   "outputs": [
    {
     "name": "stderr",
     "output_type": "stream",
     "text": [
      "/opt/conda/lib/python3.8/site-packages/tqdm/auto.py:22: TqdmWarning: IProgress not found. Please update jupyter and ipywidgets. See https://ipywidgets.readthedocs.io/en/stable/user_install.html\n",
      "  from .autonotebook import tqdm as notebook_tqdm\n"
     ]
    }
   ],
   "source": [
    "import ctypes\n",
    "from ctypes import CDLL\n",
    "\n",
    "import cupy as cp\n",
    "import torch\n",
    "\n",
    "import math\n",
    "import time\n",
    "\n",
    "import numpy as np\n"
   ]
  },
  {
   "cell_type": "markdown",
   "id": "119f13ce",
   "metadata": {},
   "source": [
    "# CODE "
   ]
  },
  {
   "cell_type": "code",
   "execution_count": 2,
   "id": "ccd635e2",
   "metadata": {},
   "outputs": [
    {
     "ename": "ModuleNotFoundError",
     "evalue": "No module named 'myLib.foo_wrapper'",
     "output_type": "error",
     "traceback": [
      "\u001b[0;31m---------------------------------------------------------------------------\u001b[0m",
      "\u001b[0;31mModuleNotFoundError\u001b[0m                       Traceback (most recent call last)",
      "Input \u001b[0;32mIn [2]\u001b[0m, in \u001b[0;36m<cell line: 1>\u001b[0;34m()\u001b[0m\n\u001b[0;32m----> 1\u001b[0m \u001b[38;5;28;01mfrom\u001b[39;00m \u001b[38;5;21;01mmyLib\u001b[39;00m \u001b[38;5;28;01mimport\u001b[39;00m Foo\n\u001b[1;32m      3\u001b[0m f \u001b[38;5;241m=\u001b[39m Foo()\n\u001b[1;32m      4\u001b[0m f\u001b[38;5;241m.\u001b[39mbar()\n",
      "File \u001b[0;32m~/repos/python_bindings/openacc/myLib/__init__.py:4\u001b[0m, in \u001b[0;36m<module>\u001b[0;34m\u001b[0m\n\u001b[1;32m      2\u001b[0m \u001b[38;5;66;03m#foo wrapper example\u001b[39;00m\n\u001b[0;32m----> 4\u001b[0m \u001b[38;5;28;01mfrom\u001b[39;00m \u001b[38;5;21;01m.\u001b[39;00m\u001b[38;5;21;01mfoo_wrapper\u001b[39;00m \u001b[38;5;28;01mimport\u001b[39;00m Foo\n",
      "\u001b[0;31mModuleNotFoundError\u001b[0m: No module named 'myLib.foo_wrapper'"
     ]
    }
   ],
   "source": [
    "from myLib import Foo\n",
    "\n",
    "f = Foo()\n",
    "f.bar() #and you will see \"Hello\" on the screen"
   ]
  },
  {
   "cell_type": "code",
   "execution_count": 27,
   "id": "68465adb",
   "metadata": {},
   "outputs": [
    {
     "name": "stdout",
     "output_type": "stream",
     "text": [
      "6.0\n"
     ]
    }
   ],
   "source": [
    "print(f.sum(2,4))"
   ]
  },
  {
   "cell_type": "code",
   "execution_count": null,
   "id": "3de144c4",
   "metadata": {},
   "outputs": [],
   "source": []
  },
  {
   "cell_type": "code",
   "execution_count": null,
   "id": "9593bb36",
   "metadata": {},
   "outputs": [],
   "source": []
  },
  {
   "cell_type": "code",
   "execution_count": null,
   "id": "5f54f131",
   "metadata": {},
   "outputs": [],
   "source": []
  },
  {
   "cell_type": "code",
   "execution_count": null,
   "id": "937fd2a1",
   "metadata": {},
   "outputs": [],
   "source": []
  },
  {
   "cell_type": "code",
   "execution_count": null,
   "id": "9de62f93",
   "metadata": {},
   "outputs": [],
   "source": []
  },
  {
   "cell_type": "code",
   "execution_count": 28,
   "id": "bd69cb70",
   "metadata": {},
   "outputs": [],
   "source": [
    "arr = np.arange(0, 20, dtype=np.float32)\n",
    "\n",
    "arr2 = np.copy(arr)"
   ]
  },
  {
   "cell_type": "code",
   "execution_count": null,
   "id": "6ca52395",
   "metadata": {},
   "outputs": [],
   "source": [
    "# arr.ctypes.data"
   ]
  },
  {
   "cell_type": "code",
   "execution_count": null,
   "id": "b96e2f8f",
   "metadata": {},
   "outputs": [],
   "source": [
    "# arr"
   ]
  },
  {
   "cell_type": "code",
   "execution_count": null,
   "id": "467d1c98",
   "metadata": {},
   "outputs": [],
   "source": [
    "# f.mean(arr.ctypes.data, arr.size)"
   ]
  },
  {
   "cell_type": "code",
   "execution_count": null,
   "id": "40995b43",
   "metadata": {},
   "outputs": [],
   "source": [
    "# np.mean(arr)"
   ]
  },
  {
   "cell_type": "code",
   "execution_count": 17,
   "id": "f5ee540e",
   "metadata": {},
   "outputs": [],
   "source": [
    "f.step(vec = arr.ctypes.data, n = arr.size, step=1.5, verbose= False)"
   ]
  },
  {
   "cell_type": "code",
   "execution_count": 18,
   "id": "d768099f",
   "metadata": {
    "scrolled": true
   },
   "outputs": [
    {
     "data": {
      "text/plain": [
       "array([ 5.5,  6.5,  7.5,  8.5,  9.5, 10.5, 11.5, 12.5, 13.5, 14.5, 15.5,\n",
       "       16.5, 17.5, 18.5, 19.5, 20.5, 21.5, 22.5, 23.5, 24.5],\n",
       "      dtype=float32)"
      ]
     },
     "execution_count": 18,
     "metadata": {},
     "output_type": "execute_result"
    }
   ],
   "source": [
    "arr"
   ]
  },
  {
   "cell_type": "code",
   "execution_count": 16,
   "id": "b4e118a0",
   "metadata": {},
   "outputs": [
    {
     "data": {
      "text/plain": [
       "array([ 0.,  1.,  2.,  3.,  4.,  5.,  6.,  7.,  8.,  9., 10., 11., 12.,\n",
       "       13., 14., 15., 16., 17., 18., 19.], dtype=float32)"
      ]
     },
     "execution_count": 16,
     "metadata": {},
     "output_type": "execute_result"
    }
   ],
   "source": [
    "arr2"
   ]
  },
  {
   "cell_type": "code",
   "execution_count": null,
   "id": "d6ccdc9e",
   "metadata": {},
   "outputs": [],
   "source": [
    "# convert a torch tensor to a cupy array\n",
    "a = torch.rand((4, 4), device='cuda')\n",
    "b = cp.asarray(a)\n",
    "b *= b\n",
    "print(b)\n",
    "print(a)\n"
   ]
  },
  {
   "cell_type": "code",
   "execution_count": null,
   "id": "da15271e",
   "metadata": {},
   "outputs": [],
   "source": [
    "# check the underlying memory pointer is the same\n",
    "assert a.__cuda_array_interface__['data'][0] == b.__cuda_array_interface__['data'][0]\n",
    "# convert a cupy array to a torch tensor\n",
    "a = cp.arange(10)\n",
    "b = torch.as_tensor(a, device='cuda')\n",
    "b += 3\n",
    "print(b)\n",
    "print(a)\n",
    "assert a.__cuda_array_interface__['data'][0] == b.__cuda_array_interface__['data'][0]"
   ]
  },
  {
   "cell_type": "code",
   "execution_count": null,
   "id": "844c651e",
   "metadata": {},
   "outputs": [],
   "source": [
    "a.__cuda_array_interface__.keys()"
   ]
  },
  {
   "cell_type": "code",
   "execution_count": null,
   "id": "de888bfe",
   "metadata": {},
   "outputs": [],
   "source": [
    "(a.__cuda_array_interface__['data'][0])"
   ]
  },
  {
   "cell_type": "code",
   "execution_count": null,
   "id": "5e321450",
   "metadata": {},
   "outputs": [],
   "source": [
    "aux = cp.cuda.alloc(10)"
   ]
  },
  {
   "cell_type": "code",
   "execution_count": null,
   "id": "0e5e9d37",
   "metadata": {},
   "outputs": [],
   "source": [
    "aux.mem"
   ]
  },
  {
   "cell_type": "code",
   "execution_count": null,
   "id": "f431313e",
   "metadata": {},
   "outputs": [],
   "source": [
    "0x7fd53cb92730"
   ]
  },
  {
   "cell_type": "code",
   "execution_count": null,
   "id": "4fe5cb1e",
   "metadata": {},
   "outputs": [],
   "source": [
    "aux.device"
   ]
  },
  {
   "cell_type": "code",
   "execution_count": null,
   "id": "f762477f",
   "metadata": {},
   "outputs": [],
   "source": []
  },
  {
   "cell_type": "code",
   "execution_count": null,
   "id": "5d337f86",
   "metadata": {},
   "outputs": [],
   "source": [
    "aux2 = cp.cuda.runtime.malloc(5000*ctypes.sizeof(ctypes.c_int32))"
   ]
  },
  {
   "cell_type": "code",
   "execution_count": null,
   "id": "c8853563",
   "metadata": {},
   "outputs": [],
   "source": [
    "aux2"
   ]
  },
  {
   "cell_type": "code",
   "execution_count": null,
   "id": "c08477ce",
   "metadata": {},
   "outputs": [],
   "source": [
    "cp.cuda.runtime.free(aux2)"
   ]
  },
  {
   "cell_type": "code",
   "execution_count": null,
   "id": "0066d50f",
   "metadata": {},
   "outputs": [],
   "source": [
    "#aux_arr = ctypes.pointer(ctypes.c_int32)\n",
    "\n",
    "aux_arr = ctypes.cast(aux2, ctypes.POINTER(ctypes.c_int32))"
   ]
  },
  {
   "cell_type": "code",
   "execution_count": null,
   "id": "1dc74574",
   "metadata": {},
   "outputs": [],
   "source": [
    "aux_arr[1]"
   ]
  },
  {
   "cell_type": "code",
   "execution_count": null,
   "id": "719401ea",
   "metadata": {},
   "outputs": [],
   "source": [
    "import rmm"
   ]
  },
  {
   "cell_type": "code",
   "execution_count": null,
   "id": "d7e7aefd",
   "metadata": {},
   "outputs": [],
   "source": []
  }
 ],
 "metadata": {
  "kernelspec": {
   "display_name": "Python 3 (ipykernel)",
   "language": "python",
   "name": "python3"
  },
  "language_info": {
   "codemirror_mode": {
    "name": "ipython",
    "version": 3
   },
   "file_extension": ".py",
   "mimetype": "text/x-python",
   "name": "python",
   "nbconvert_exporter": "python",
   "pygments_lexer": "ipython3",
   "version": "3.8.13"
  }
 },
 "nbformat": 4,
 "nbformat_minor": 5
}
