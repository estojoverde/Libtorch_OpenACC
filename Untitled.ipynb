{
 "cells": [
  {
   "cell_type": "code",
   "execution_count": 1,
   "id": "c53f418d",
   "metadata": {
    "scrolled": true
   },
   "outputs": [
    {
     "name": "stderr",
     "output_type": "stream",
     "text": [
      "/opt/conda/lib/python3.8/site-packages/tqdm/auto.py:22: TqdmWarning: IProgress not found. Please update jupyter and ipywidgets. See https://ipywidgets.readthedocs.io/en/stable/user_install.html\n",
      "  from .autonotebook import tqdm as notebook_tqdm\n"
     ]
    }
   ],
   "source": [
    "import ctypes\n",
    "from ctypes import CDLL\n",
    "\n",
    "import cupy as cp\n",
    "import torch\n",
    "\n",
    "import math\n",
    "import time\n",
    "\n",
    "import numpy as np\n"
   ]
  },
  {
   "cell_type": "markdown",
   "id": "119f13ce",
   "metadata": {},
   "source": [
    "# CODE "
   ]
  },
  {
   "cell_type": "code",
   "execution_count": 2,
   "id": "21e8b77e",
   "metadata": {},
   "outputs": [
    {
     "name": "stdout",
     "output_type": "stream",
     "text": [
      "<built-in method malloc of cupy.cuda.memory.MemoryPool object at 0x7f44ef3a1100>\n"
     ]
    }
   ],
   "source": [
    "\n",
    "cp.cuda.set_allocator(cp.cuda.MemoryPool(cp.cuda.malloc_managed).malloc)\n",
    "print(cp.cuda.get_allocator())\n",
    "\n",
    "n = 1000\n",
    "a = cp.ones(n, dtype=cp.float32)\n",
    "a_ctypes = ctypes.cast(a.data.ptr, ctypes.POINTER(ctypes.c_float))\n",
    "\n",
    "b = cp.ones(n, dtype=cp.float32)\n",
    "b_ctypes = ctypes.cast(b.data.ptr, ctypes.POINTER(ctypes.c_float))\n",
    "\n",
    "c = cp.zeros(n, dtype=cp.float32)\n",
    "c_ctypes = ctypes.cast(c.data.ptr, ctypes.POINTER(ctypes.c_float))\n",
    "\n",
    "\n"
   ]
  },
  {
   "cell_type": "code",
   "execution_count": null,
   "id": "8382c185",
   "metadata": {},
   "outputs": [],
   "source": []
  },
  {
   "cell_type": "code",
   "execution_count": 3,
   "id": "616b10b6",
   "metadata": {},
   "outputs": [],
   "source": [
    "so_file = \"/home/marcelo.silva/repos/python_bindings/pytorch_openacc/myLib/mylib.so\"\n",
    "\n",
    "\n",
    "myLib = ctypes.CDLL(so_file)\n",
    "\n",
    "myLib.addvector_cab.argtypes = [ctypes.POINTER(ctypes.c_float), ctypes.POINTER(ctypes.c_float), ctypes.POINTER(ctypes.c_float), ctypes.c_int]\n",
    "myLib.addvector_cab.restype = ctypes.c_int\n",
    "\n"
   ]
  },
  {
   "cell_type": "code",
   "execution_count": null,
   "id": "50a5419d",
   "metadata": {},
   "outputs": [],
   "source": [
    "\n",
    "\n",
    "\n",
    "\n",
    "myLib.addvector_cab(a_ctypes, b_ctypes, c_ctypes, n)\n",
    "print(f\"Valor de b: {b}\")\n",
    "print(f\"Valor de a: {a}\")\n"
   ]
  },
  {
   "cell_type": "code",
   "execution_count": null,
   "id": "3df5c7fb",
   "metadata": {},
   "outputs": [],
   "source": []
  },
  {
   "cell_type": "code",
   "execution_count": null,
   "id": "019e9476",
   "metadata": {},
   "outputs": [],
   "source": []
  },
  {
   "cell_type": "code",
   "execution_count": null,
   "id": "5cfca24d",
   "metadata": {},
   "outputs": [],
   "source": []
  },
  {
   "cell_type": "code",
   "execution_count": null,
   "id": "cfa62bc8",
   "metadata": {},
   "outputs": [],
   "source": []
  },
  {
   "cell_type": "code",
   "execution_count": null,
   "id": "c83393ac",
   "metadata": {},
   "outputs": [],
   "source": []
  },
  {
   "cell_type": "code",
   "execution_count": null,
   "id": "f0505320",
   "metadata": {},
   "outputs": [],
   "source": []
  },
  {
   "cell_type": "code",
   "execution_count": null,
   "id": "37fa0e67",
   "metadata": {},
   "outputs": [],
   "source": []
  },
  {
   "cell_type": "code",
   "execution_count": null,
   "id": "5a1c526f",
   "metadata": {},
   "outputs": [],
   "source": []
  },
  {
   "cell_type": "code",
   "execution_count": null,
   "id": "482c85b1",
   "metadata": {},
   "outputs": [],
   "source": []
  },
  {
   "cell_type": "code",
   "execution_count": null,
   "id": "b03d60bc",
   "metadata": {},
   "outputs": [],
   "source": []
  },
  {
   "cell_type": "code",
   "execution_count": null,
   "id": "ccd635e2",
   "metadata": {},
   "outputs": [],
   "source": [
    "from myLib import Foo\n",
    "\n",
    "f = Foo()\n",
    "f.bar() #and you will see \"Hello\" on the screen"
   ]
  },
  {
   "cell_type": "code",
   "execution_count": null,
   "id": "68465adb",
   "metadata": {},
   "outputs": [],
   "source": [
    "print(f.sum(2,4))"
   ]
  },
  {
   "cell_type": "code",
   "execution_count": null,
   "id": "3de144c4",
   "metadata": {},
   "outputs": [],
   "source": []
  },
  {
   "cell_type": "code",
   "execution_count": null,
   "id": "9593bb36",
   "metadata": {},
   "outputs": [],
   "source": []
  },
  {
   "cell_type": "code",
   "execution_count": null,
   "id": "5f54f131",
   "metadata": {},
   "outputs": [],
   "source": []
  },
  {
   "cell_type": "code",
   "execution_count": null,
   "id": "937fd2a1",
   "metadata": {},
   "outputs": [],
   "source": []
  },
  {
   "cell_type": "code",
   "execution_count": null,
   "id": "9de62f93",
   "metadata": {},
   "outputs": [],
   "source": []
  },
  {
   "cell_type": "code",
   "execution_count": null,
   "id": "bd69cb70",
   "metadata": {},
   "outputs": [],
   "source": [
    "arr = np.arange(0, 5000, dtype=np.float32)\n",
    "\n",
    "arr2 = np.copy(arr)"
   ]
  },
  {
   "cell_type": "code",
   "execution_count": null,
   "id": "6ca52395",
   "metadata": {},
   "outputs": [],
   "source": [
    "arr = np.arange(0, 5, dtype=np.float32)\n",
    "\n",
    "arr2 = np.copy(arr)"
   ]
  },
  {
   "cell_type": "code",
   "execution_count": null,
   "id": "b96e2f8f",
   "metadata": {},
   "outputs": [],
   "source": [
    "# arr"
   ]
  },
  {
   "cell_type": "code",
   "execution_count": null,
   "id": "467d1c98",
   "metadata": {},
   "outputs": [],
   "source": [
    "# f.mean(arr.ctypes.data, arr.size)"
   ]
  },
  {
   "cell_type": "code",
   "execution_count": null,
   "id": "40995b43",
   "metadata": {},
   "outputs": [],
   "source": [
    "# np.mean(arr)"
   ]
  },
  {
   "cell_type": "code",
   "execution_count": null,
   "id": "f5ee540e",
   "metadata": {},
   "outputs": [],
   "source": [
    "f.step(vec = arr.ctypes.data, n = arr.size, step=1.357, verbose= False)"
   ]
  },
  {
   "cell_type": "code",
   "execution_count": null,
   "id": "d768099f",
   "metadata": {
    "scrolled": false
   },
   "outputs": [],
   "source": [
    "arr"
   ]
  },
  {
   "cell_type": "code",
   "execution_count": null,
   "id": "b4e118a0",
   "metadata": {},
   "outputs": [],
   "source": [
    "arr2"
   ]
  },
  {
   "cell_type": "code",
   "execution_count": null,
   "id": "2c889744",
   "metadata": {},
   "outputs": [],
   "source": [
    "f.step_acc(vec = arr.ctypes.data, n = arr.size, step=1.357, verbose= False)"
   ]
  },
  {
   "cell_type": "code",
   "execution_count": null,
   "id": "2c4844fb",
   "metadata": {},
   "outputs": [],
   "source": [
    "f.step_acc2()"
   ]
  },
  {
   "cell_type": "code",
   "execution_count": null,
   "id": "d6ccdc9e",
   "metadata": {},
   "outputs": [],
   "source": [
    "# convert a torch tensor to a cupy array\n",
    "a = torch.rand((4, 4), device='cuda')\n",
    "b = cp.asarray(a)\n",
    "b *= b\n",
    "print(b)\n",
    "print(a)\n"
   ]
  },
  {
   "cell_type": "code",
   "execution_count": null,
   "id": "da15271e",
   "metadata": {},
   "outputs": [],
   "source": [
    "# check the underlying memory pointer is the same\n",
    "assert a.__cuda_array_interface__['data'][0] == b.__cuda_array_interface__['data'][0]\n",
    "# convert a cupy array to a torch tensor\n",
    "a = cp.arange(10)\n",
    "b = torch.as_tensor(a, device='cuda')\n",
    "b += 3\n",
    "print(b)\n",
    "print(a)\n",
    "assert a.__cuda_array_interface__['data'][0] == b.__cuda_array_interface__['data'][0]"
   ]
  },
  {
   "cell_type": "code",
   "execution_count": null,
   "id": "844c651e",
   "metadata": {},
   "outputs": [],
   "source": [
    "a.__cuda_array_interface__.keys()"
   ]
  },
  {
   "cell_type": "code",
   "execution_count": null,
   "id": "de888bfe",
   "metadata": {},
   "outputs": [],
   "source": [
    "(a.__cuda_array_interface__['data'][0])"
   ]
  },
  {
   "cell_type": "code",
   "execution_count": null,
   "id": "5e321450",
   "metadata": {},
   "outputs": [],
   "source": [
    "aux = cp.cuda.alloc(10)"
   ]
  },
  {
   "cell_type": "code",
   "execution_count": null,
   "id": "0e5e9d37",
   "metadata": {},
   "outputs": [],
   "source": [
    "aux.mem"
   ]
  },
  {
   "cell_type": "code",
   "execution_count": null,
   "id": "f431313e",
   "metadata": {},
   "outputs": [],
   "source": [
    "0x7fd53cb92730"
   ]
  },
  {
   "cell_type": "code",
   "execution_count": null,
   "id": "4fe5cb1e",
   "metadata": {},
   "outputs": [],
   "source": [
    "aux.device"
   ]
  },
  {
   "cell_type": "code",
   "execution_count": null,
   "id": "f762477f",
   "metadata": {},
   "outputs": [],
   "source": []
  },
  {
   "cell_type": "code",
   "execution_count": null,
   "id": "5d337f86",
   "metadata": {},
   "outputs": [],
   "source": [
    "aux2 = cp.cuda.runtime.malloc(5000*ctypes.sizeof(ctypes.c_int32))"
   ]
  },
  {
   "cell_type": "code",
   "execution_count": null,
   "id": "c8853563",
   "metadata": {},
   "outputs": [],
   "source": [
    "aux2"
   ]
  },
  {
   "cell_type": "code",
   "execution_count": null,
   "id": "c08477ce",
   "metadata": {},
   "outputs": [],
   "source": [
    "cp.cuda.runtime.free(aux2)"
   ]
  },
  {
   "cell_type": "code",
   "execution_count": null,
   "id": "0066d50f",
   "metadata": {},
   "outputs": [],
   "source": [
    "#aux_arr = ctypes.pointer(ctypes.c_int32)\n",
    "\n",
    "aux_arr = ctypes.cast(aux2, ctypes.POINTER(ctypes.c_int32))"
   ]
  },
  {
   "cell_type": "code",
   "execution_count": null,
   "id": "1dc74574",
   "metadata": {},
   "outputs": [],
   "source": [
    "aux_arr[1]"
   ]
  },
  {
   "cell_type": "code",
   "execution_count": null,
   "id": "719401ea",
   "metadata": {},
   "outputs": [],
   "source": [
    "import rmm"
   ]
  },
  {
   "cell_type": "code",
   "execution_count": null,
   "id": "d7e7aefd",
   "metadata": {},
   "outputs": [],
   "source": []
  }
 ],
 "metadata": {
  "kernelspec": {
   "display_name": "Python 3 (ipykernel)",
   "language": "python",
   "name": "python3"
  },
  "language_info": {
   "codemirror_mode": {
    "name": "ipython",
    "version": 3
   },
   "file_extension": ".py",
   "mimetype": "text/x-python",
   "name": "python",
   "nbconvert_exporter": "python",
   "pygments_lexer": "ipython3",
   "version": "3.8.13"
  }
 },
 "nbformat": 4,
 "nbformat_minor": 5
}
